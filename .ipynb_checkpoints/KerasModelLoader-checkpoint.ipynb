{
 "cells": [
  {
   "cell_type": "code",
   "execution_count": 1,
   "metadata": {},
   "outputs": [
    {
     "name": "stderr",
     "output_type": "stream",
     "text": [
      "C:\\Users\\uidp4921\\AppData\\Local\\Continuum\\miniconda3\\envs\\carnd-term1\\lib\\site-packages\\h5py\\__init__.py:36: FutureWarning: Conversion of the second argument of issubdtype from `float` to `np.floating` is deprecated. In future, it will be treated as `np.float64 == np.dtype(float).type`.\n",
      "  from ._conv import register_converters as _register_converters\n",
      "Using TensorFlow backend.\n"
     ]
    },
    {
     "name": "stdout",
     "output_type": "stream",
     "text": [
      "2.1.6\n"
     ]
    }
   ],
   "source": [
    "from keras.layers.convolutional import Conv2D, MaxPooling2D\n",
    "from keras.models import Sequential\n",
    "from keras.layers.core import Dense, Dropout, Activation, Flatten\n",
    "\n",
    "import keras\n",
    "print(keras.__version__)"
   ]
  },
  {
   "cell_type": "code",
   "execution_count": 2,
   "metadata": {},
   "outputs": [],
   "source": [
    "def CNN_simple():\n",
    "    model = Sequential()\n",
    "    model.add(Conv2D(32, (3, 3), padding='same',input_shape=(32,32,3)))\n",
    "    model.add(Activation('relu'))\n",
    "    model.add(Conv2D(32, (3, 3)))\n",
    "    model.add(Activation('relu'))\n",
    "    model.add(MaxPooling2D(pool_size=(2, 2)))\n",
    "    model.add(Dropout(0.25))\n",
    "    model.add(Conv2D(64, (3, 3), padding='same'))\n",
    "    model.add(Activation('relu'))\n",
    "    model.add(Conv2D(64, (3, 3)))\n",
    "    model.add(Activation('relu'))\n",
    "    model.add(MaxPooling2D(pool_size=(2, 2)))\n",
    "    model.add(Dropout(0.25))\n",
    "    model.add(Flatten())\n",
    "    model.add(Dense(512))\n",
    "    model.add(Activation('relu'))\n",
    "    model.add(Dropout(0.5))\n",
    "    model.add(Dense(50))       \n",
    "    model.add(Activation('softmax'))\n",
    "    return model"
   ]
  },
  {
   "cell_type": "code",
   "execution_count": 4,
   "metadata": {
    "scrolled": true
   },
   "outputs": [
    {
     "name": "stdout",
     "output_type": "stream",
     "text": [
      "save the architecture of a model\n",
      "{\"config\": [{\"config\": {\"padding\": \"same\", \"bias_constraint\": null, \"kernel_regularizer\": null, \"data_format\": \"channels_last\", \"trainable\": true, \"name\": \"conv2d_5\", \"use_bias\": true, \"bias_regularizer\": null, \"kernel_size\": [3, 3], \"activation\": \"linear\", \"batch_input_shape\": [null, 32, 32, 3], \"bias_initializer\": {\"config\": {}, \"class_name\": \"Zeros\"}, \"dtype\": \"float32\", \"kernel_constraint\": null, \"kernel_initializer\": {\"config\": {\"scale\": 1.0, \"mode\": \"fan_avg\", \"seed\": null, \"distribution\": \"uniform\"}, \"class_name\": \"VarianceScaling\"}, \"strides\": [1, 1], \"dilation_rate\": [1, 1], \"activity_regularizer\": null, \"filters\": 32}, \"class_name\": \"Conv2D\"}, {\"config\": {\"activation\": \"relu\", \"trainable\": true, \"name\": \"activation_7\"}, \"class_name\": \"Activation\"}, {\"config\": {\"padding\": \"valid\", \"bias_constraint\": null, \"kernel_regularizer\": null, \"data_format\": \"channels_last\", \"trainable\": true, \"name\": \"conv2d_6\", \"use_bias\": true, \"bias_regularizer\": null, \"kernel_size\": [3, 3], \"activation\": \"linear\", \"bias_initializer\": {\"config\": {}, \"class_name\": \"Zeros\"}, \"kernel_constraint\": null, \"kernel_initializer\": {\"config\": {\"scale\": 1.0, \"mode\": \"fan_avg\", \"seed\": null, \"distribution\": \"uniform\"}, \"class_name\": \"VarianceScaling\"}, \"strides\": [1, 1], \"dilation_rate\": [1, 1], \"activity_regularizer\": null, \"filters\": 32}, \"class_name\": \"Conv2D\"}, {\"config\": {\"activation\": \"relu\", \"trainable\": true, \"name\": \"activation_8\"}, \"class_name\": \"Activation\"}, {\"config\": {\"padding\": \"valid\", \"pool_size\": [2, 2], \"name\": \"max_pooling2d_3\", \"data_format\": \"channels_last\", \"trainable\": true, \"strides\": [2, 2]}, \"class_name\": \"MaxPooling2D\"}, {\"config\": {\"rate\": 0.25, \"name\": \"dropout_4\", \"trainable\": true, \"seed\": null, \"noise_shape\": null}, \"class_name\": \"Dropout\"}, {\"config\": {\"padding\": \"same\", \"bias_constraint\": null, \"kernel_regularizer\": null, \"data_format\": \"channels_last\", \"trainable\": true, \"name\": \"conv2d_7\", \"use_bias\": true, \"bias_regularizer\": null, \"kernel_size\": [3, 3], \"activation\": \"linear\", \"bias_initializer\": {\"config\": {}, \"class_name\": \"Zeros\"}, \"kernel_constraint\": null, \"kernel_initializer\": {\"config\": {\"scale\": 1.0, \"mode\": \"fan_avg\", \"seed\": null, \"distribution\": \"uniform\"}, \"class_name\": \"VarianceScaling\"}, \"strides\": [1, 1], \"dilation_rate\": [1, 1], \"activity_regularizer\": null, \"filters\": 64}, \"class_name\": \"Conv2D\"}, {\"config\": {\"activation\": \"relu\", \"trainable\": true, \"name\": \"activation_9\"}, \"class_name\": \"Activation\"}, {\"config\": {\"padding\": \"valid\", \"bias_constraint\": null, \"kernel_regularizer\": null, \"data_format\": \"channels_last\", \"trainable\": true, \"name\": \"conv2d_8\", \"use_bias\": true, \"bias_regularizer\": null, \"kernel_size\": [3, 3], \"activation\": \"linear\", \"bias_initializer\": {\"config\": {}, \"class_name\": \"Zeros\"}, \"kernel_constraint\": null, \"kernel_initializer\": {\"config\": {\"scale\": 1.0, \"mode\": \"fan_avg\", \"seed\": null, \"distribution\": \"uniform\"}, \"class_name\": \"VarianceScaling\"}, \"strides\": [1, 1], \"dilation_rate\": [1, 1], \"activity_regularizer\": null, \"filters\": 64}, \"class_name\": \"Conv2D\"}, {\"config\": {\"activation\": \"relu\", \"trainable\": true, \"name\": \"activation_10\"}, \"class_name\": \"Activation\"}, {\"config\": {\"padding\": \"valid\", \"pool_size\": [2, 2], \"name\": \"max_pooling2d_4\", \"data_format\": \"channels_last\", \"trainable\": true, \"strides\": [2, 2]}, \"class_name\": \"MaxPooling2D\"}, {\"config\": {\"rate\": 0.25, \"name\": \"dropout_5\", \"trainable\": true, \"seed\": null, \"noise_shape\": null}, \"class_name\": \"Dropout\"}, {\"config\": {\"data_format\": \"channels_last\", \"trainable\": true, \"name\": \"flatten_2\"}, \"class_name\": \"Flatten\"}, {\"config\": {\"bias_constraint\": null, \"activation\": \"linear\", \"trainable\": true, \"name\": \"dense_3\", \"bias_regularizer\": null, \"kernel_initializer\": {\"config\": {\"scale\": 1.0, \"mode\": \"fan_avg\", \"seed\": null, \"distribution\": \"uniform\"}, \"class_name\": \"VarianceScaling\"}, \"kernel_regularizer\": null, \"use_bias\": true, \"units\": 512, \"bias_initializer\": {\"config\": {}, \"class_name\": \"Zeros\"}, \"kernel_constraint\": null, \"activity_regularizer\": null}, \"class_name\": \"Dense\"}, {\"config\": {\"activation\": \"relu\", \"trainable\": true, \"name\": \"activation_11\"}, \"class_name\": \"Activation\"}, {\"config\": {\"rate\": 0.5, \"name\": \"dropout_6\", \"trainable\": true, \"seed\": null, \"noise_shape\": null}, \"class_name\": \"Dropout\"}, {\"config\": {\"bias_constraint\": null, \"activation\": \"linear\", \"trainable\": true, \"name\": \"dense_4\", \"bias_regularizer\": null, \"kernel_initializer\": {\"config\": {\"scale\": 1.0, \"mode\": \"fan_avg\", \"seed\": null, \"distribution\": \"uniform\"}, \"class_name\": \"VarianceScaling\"}, \"kernel_regularizer\": null, \"use_bias\": true, \"units\": 50, \"bias_initializer\": {\"config\": {}, \"class_name\": \"Zeros\"}, \"kernel_constraint\": null, \"activity_regularizer\": null}, \"class_name\": \"Dense\"}, {\"config\": {\"activation\": \"softmax\", \"trainable\": true, \"name\": \"activation_12\"}, \"class_name\": \"Activation\"}], \"backend\": \"tensorflow\", \"keras_version\": \"2.1.6\", \"class_name\": \"Sequential\"}\n"
     ]
    }
   ],
   "source": [
    "model = CNN_simple()\n",
    "print('save the architecture of a model')\n",
    "json_string = model.to_json()\n",
    "print(json_string)\n",
    "#open(os.path.join(f_model,'cnn_model.json'), 'w').write(json_string)"
   ]
  },
  {
   "cell_type": "code",
   "execution_count": 6,
   "metadata": {},
   "outputs": [
    {
     "name": "stdout",
     "output_type": "stream",
     "text": [
      "_________________________________________________________________\n",
      "Layer (type)                 Output Shape              Param #   \n",
      "=================================================================\n",
      "conv2d_5 (Conv2D)            (None, 32, 32, 32)        896       \n",
      "_________________________________________________________________\n",
      "activation_7 (Activation)    (None, 32, 32, 32)        0         \n",
      "_________________________________________________________________\n",
      "conv2d_6 (Conv2D)            (None, 30, 30, 32)        9248      \n",
      "_________________________________________________________________\n",
      "activation_8 (Activation)    (None, 30, 30, 32)        0         \n",
      "_________________________________________________________________\n",
      "max_pooling2d_3 (MaxPooling2 (None, 15, 15, 32)        0         \n",
      "_________________________________________________________________\n",
      "dropout_4 (Dropout)          (None, 15, 15, 32)        0         \n",
      "_________________________________________________________________\n",
      "conv2d_7 (Conv2D)            (None, 15, 15, 64)        18496     \n",
      "_________________________________________________________________\n",
      "activation_9 (Activation)    (None, 15, 15, 64)        0         \n",
      "_________________________________________________________________\n",
      "conv2d_8 (Conv2D)            (None, 13, 13, 64)        36928     \n",
      "_________________________________________________________________\n",
      "activation_10 (Activation)   (None, 13, 13, 64)        0         \n",
      "_________________________________________________________________\n",
      "max_pooling2d_4 (MaxPooling2 (None, 6, 6, 64)          0         \n",
      "_________________________________________________________________\n",
      "dropout_5 (Dropout)          (None, 6, 6, 64)          0         \n",
      "_________________________________________________________________\n",
      "flatten_2 (Flatten)          (None, 2304)              0         \n",
      "_________________________________________________________________\n",
      "dense_3 (Dense)              (None, 512)               1180160   \n",
      "_________________________________________________________________\n",
      "activation_11 (Activation)   (None, 512)               0         \n",
      "_________________________________________________________________\n",
      "dropout_6 (Dropout)          (None, 512)               0         \n",
      "_________________________________________________________________\n",
      "dense_4 (Dense)              (None, 50)                25650     \n",
      "_________________________________________________________________\n",
      "activation_12 (Activation)   (None, 50)                0         \n",
      "=================================================================\n",
      "Total params: 1,271,378\n",
      "Trainable params: 1,271,378\n",
      "Non-trainable params: 0\n",
      "_________________________________________________________________\n"
     ]
    }
   ],
   "source": [
    "from keras.models import model_from_json\n",
    "model_ = model_from_json(json_string)\n",
    "model_.summary()"
   ]
  },
  {
   "cell_type": "code",
   "execution_count": null,
   "metadata": {},
   "outputs": [],
   "source": []
  }
 ],
 "metadata": {
  "kernelspec": {
   "display_name": "Python 3",
   "language": "python",
   "name": "python3"
  },
  "language_info": {
   "codemirror_mode": {
    "name": "ipython",
    "version": 3
   },
   "file_extension": ".py",
   "mimetype": "text/x-python",
   "name": "python",
   "nbconvert_exporter": "python",
   "pygments_lexer": "ipython3",
   "version": "3.5.2"
  },
  "widgets": {
   "state": {},
   "version": "1.1.2"
  }
 },
 "nbformat": 4,
 "nbformat_minor": 2
}
